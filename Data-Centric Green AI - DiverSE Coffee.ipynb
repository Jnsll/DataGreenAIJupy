{
 "cells": [
  {
   "cell_type": "markdown",
   "id": "94b51a55",
   "metadata": {
    "slideshow": {
     "slide_type": "slide"
    }
   },
   "source": [
    "# <p style=\"text-align: center;\">Data-Centric Green AI: An Exploratory Empirical Study </p>\n",
    "\n",
    "## <p style=\"text-align: center;\">DiverSE Coffee --  04/14/22 </p>\n",
    "<!--## <p style=\"text-align: center;\">04/14/22</p> -->\n",
    "\n",
    "## <p style=\"text-align: center;\" valign=\"center\"> June Sallou  </p> \n",
    "<!--- <img style=\"float: right;\" valign=\"center\" width=\"20\" src=\"TwitLogo.png\">  <p style=\"text-align: right;\" valign=\"center\">  @jnsll_</p> -->\n",
    "\n",
    "<br/>\n",
    "<br/>\n",
    "<br/>\n",
    "\n",
    "<div style=\"float: left; text-align: left; display: inline-block;\"> \n",
    "<span style=\"vertical-align:middle;padding-left: 5px;\">Slides:</span>\n",
    "<img style=\"float: left; text-align: left; vertical-align:middle;\" valign=\"center\" width = \"35\" src=\"img/GitHubLogo.png\"> \n",
    "<a style=\"padding-left: 5px;vertical-align:middle;\" href=\"https://github.com/Jnsll/DataGreenAIJupy\">https://github.com/Jnsll/DataGreenAIJupy\n",
    "</a>\n",
    "</div>\n",
    "\n",
    "<div style=\"float: right; display: inline-block;\">\n",
    "<img style=\"float: left;vertical-align:middle;\" width=\"35\" src=\"img/TwitLogo.png\">  \n",
    "<span style=\"float: right; padding-left: 5px; vertical-align:middle;\">@jnsll_ </span>\n",
    "</div>"
   ]
  },
  {
   "cell_type": "markdown",
   "id": "a5f13d6a",
   "metadata": {
    "slideshow": {
     "slide_type": "slide"
    }
   },
   "source": [
    "## Story of the paper\n",
    "\n",
    "All started in August 2021...\n"
   ]
  },
  {
   "cell_type": "markdown",
   "id": "4d7d32e7",
   "metadata": {
    "slideshow": {
     "slide_type": "fragment"
    }
   },
   "source": [
    "At the (Online) Summer School on ICT for Sustainability!\n",
    "\n",
    "<div style=\"display: flex;\">\n",
    "    <img src=\"img/SummerSchoolICT4S.jpg\" width=\"20%\" style=\"float: left; padding-left: 10px;\">\n",
    "    <span style=\"padding-left: 10px;float:center;\"> \n",
    "        <br/>\n",
    "        <ul>\n",
    "            <li> Met the other authors: Roberto Verdecchia, Luís Cruz, Michelle Lin, James Wickenden & Estelle Hotellier</li>\n",
    "            <li>Topic of Green AI/Data </li>\n",
    "            <li>Weekly meetings after the Summer School</li>\n",
    "        </ul>\n",
    "        <br/>\n",
    "         <a style=\"padding-left: 10px;position: absolute; bottom: 15px;\" href=\"https://www.lorentzcenter.nl/international-summer-school-on-ict-for-sustainability-2021.html\">https://www.lorentzcenter.nl/international-summer-school-on-ict-for-sustainability-2021.html </a>\n",
    "        </span>\n",
    "\n",
    "</div>"
   ]
  },
  {
   "cell_type": "markdown",
   "id": "eea78d6c",
   "metadata": {
    "slideshow": {
     "slide_type": "subslide"
    }
   },
   "source": [
    "## A few infos about the ICT4S Conference\n",
    "\n",
    "ICT4S'22 is the 8th edition of the conference. It will take place in Plovdiv, Bulgarian on the 14-16th of June.\n",
    "\n",
    "Goal: \"bring together leading *researchers* in **ICT for Sustainability** with *government and industry representatives*, including *decision-makers* with an interest in **using ICT for sustainability**, *researchers* focusing on **ICT effects on sustainability** and *developers* of **sustainable ICT systems or applications**.\"\n",
    "\n",
    "(Some of the) Topics: Sustainable software engineering, Smart cyber-physical systems, Sustainability in data centers and high-performance computing, Design principles for sustainable ICT, Computational sustainability, etc...\n",
    "\n",
    "Some other (potential) relevant infos: \n",
    "- \"positively impact any aspect of sustainability of the environment, society or economy\"\n",
    "- \"collaborative research across multiple disciplines\" => not only the SE PoV, but a more (multi-)systemic approach "
   ]
  },
  {
   "cell_type": "markdown",
   "id": "9c1217ee",
   "metadata": {
    "slideshow": {
     "slide_type": "slide"
    }
   },
   "source": [
    "## AI and Energy Consumption\n",
    "\n",
    "The usage of AI more and more predominent. \n",
    "\n",
    "Yet, the energy consumption of AI. A lot!! "
   ]
  },
  {
   "cell_type": "code",
   "execution_count": null,
   "id": "fd40480c",
   "metadata": {},
   "outputs": [],
   "source": []
  }
 ],
 "metadata": {
  "celltoolbar": "Slideshow",
  "kernelspec": {
   "display_name": "Python 3",
   "language": "python",
   "name": "python3"
  },
  "language_info": {
   "codemirror_mode": {
    "name": "ipython",
    "version": 3
   },
   "file_extension": ".py",
   "mimetype": "text/x-python",
   "name": "python",
   "nbconvert_exporter": "python",
   "pygments_lexer": "ipython3",
   "version": "3.10.2"
  }
 },
 "nbformat": 4,
 "nbformat_minor": 5
}
