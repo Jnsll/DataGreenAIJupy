{
 "cells": [
  {
   "cell_type": "markdown",
   "id": "94b51a55",
   "metadata": {
    "slideshow": {
     "slide_type": "slide"
    }
   },
   "source": [
    "# <p style=\"text-align: center;\">Data-Centric Green AI: An Exploratory Empirical Study </p>\n",
    "\n",
    "## <p style=\"text-align: center;\">DiverSE Coffee --  04/14/22 </p>\n",
    "<!--## <p style=\"text-align: center;\">04/14/22</p> -->\n",
    "\n",
    "## <p style=\"text-align: center;\" valign=\"center\"> June Sallou  </p> \n",
    "<!--- <img style=\"float: right;\" valign=\"center\" width=\"20\" src=\"TwitLogo.png\">  <p style=\"text-align: right;\" valign=\"center\">  @jnsll_</p> -->\n",
    "\n",
    "<br/>\n",
    "<br/>\n",
    "<br/>\n",
    "\n",
    "<div style=\"float: left; text-align: left; display: inline-block;\"> \n",
    "<span style=\"vertical-align:middle;padding-left: 5px;\">Slides:</span>\n",
    "<img style=\"float: left; text-align: left; vertical-align:middle;\" valign=\"center\" width = \"35\" src=\"img/GitHubLogo.png\"> \n",
    "<a style=\"padding-left: 5px;vertical-align:middle;\" href=\"https://github.com/Jnsll/DataGreenAIJupy\">https://github.com/Jnsll/DataGreenAIJupy\n",
    "</a>\n",
    "</div>\n",
    "\n",
    "<div style=\"float: right; display: inline-block;\">\n",
    "<img style=\"float: left;vertical-align:middle;\" width=\"35\" src=\"img/TwitLogo.png\">  \n",
    "<span style=\"float: right; padding-left: 5px; vertical-align:middle;\">@jnsll_ </span>\n",
    "</div>"
   ]
  },
  {
   "cell_type": "markdown",
   "id": "efcd752c",
   "metadata": {
    "slideshow": {
     "slide_type": "slide"
    }
   },
   "source": [
    "# Story of the paper\n",
    "\n",
    "All started in August 2021...\n"
   ]
  },
  {
   "cell_type": "markdown",
   "id": "7c698691",
   "metadata": {
    "slideshow": {
     "slide_type": "fragment"
    }
   },
   "source": [
    "...at the (Online) Summer School on ICT for Sustainability!\n",
    "\n",
    "<div style=\"display: flex;\">\n",
    "    <img src=\"img/SummerSchoolICT4S.jpg\" width=\"20%\" style=\"float: left; padding-left: 10px;\">\n",
    "    <span style=\"padding-left: 10px;float:center;\"> \n",
    "        <br/>\n",
    "        <ul>\n",
    "            <li>Met the other authors: Roberto Verdecchia, Luís Cruz, Michelle Lin, James Wickenden & Estelle Hotellier</li>\n",
    "            <li>Location: The Netherlands, Italy, Portugal, Canada, UK, France </li>\n",
    "            <li>Topic of Green AI/Data </li>\n",
    "            <li>Weekly meetings after the Summer School</li>\n",
    "        </ul>\n",
    "        <br/>\n",
    "        <br/>\n",
    "         <a style=\"padding-left: 10px;position: absolute; bottom: 15px;\" href=\"https://www.lorentzcenter.nl/international-summer-school-on-ict-for-sustainability-2021.html\">https://www.lorentzcenter.nl/international-summer-school-on-ict-for-sustainability-2021.html </a>\n",
    "        </span>\n",
    "\n",
    "</div>"
   ]
  },
  {
   "cell_type": "markdown",
   "id": "eea78d6c",
   "metadata": {
    "slideshow": {
     "slide_type": "subslide"
    }
   },
   "source": [
    "## A few infos about the ICT4S Conference\n",
    "\n",
    "ICT4S'22 is the 8th edition of the conference. It will take place in Plovdiv, Bulgarian on the 14-16th of June.\n",
    "\n",
    "Goal: \"bring together leading *researchers* in **ICT for Sustainability** with *government and industry representatives*, including *decision-makers* with an interest in **using ICT for sustainability**, *researchers* focusing on **ICT effects on sustainability** and *developers* of **sustainable ICT systems or applications**.\"\n",
    "\n",
    "(Some of the) Topics: Sustainable software engineering, Smart cyber-physical systems, Sustainability in data centers and high-performance computing, Design principles for sustainable ICT, Computational sustainability, etc...\n",
    "\n",
    "Some other (potential) relevant infos: \n",
    "- \"positively impact any aspect of sustainability of the environment, society or economy\"\n",
    "- \"collaborative research across multiple disciplines\" => not only the SE PoV, but a more (multi-)systemic approach "
   ]
  },
  {
   "cell_type": "markdown",
   "id": "9c1217ee",
   "metadata": {
    "slideshow": {
     "slide_type": "slide"
    }
   },
   "source": [
    "# Context\n",
    "\n",
    "## \"Software is eating the world\"\n",
    "<!--![SoftwareEatingTheWorld](img/SoftWorld.svg)-->\n",
    "<img src=\"img/SoftEating.png\">"
   ]
  },
  {
   "cell_type": "markdown",
   "id": "a13038a6",
   "metadata": {
    "slideshow": {
     "slide_type": "subslide"
    }
   },
   "source": [
    "## Then, AI is eating Software\n",
    "\n",
    "<img src=\"img/AIEating.png\">\n",
    "\n",
    "\n",
    "\"Already 77% of the devices we use feature one form of AI or another\" (https://techjury.net/blog/ai-statistics/)"
   ]
  },
  {
   "cell_type": "markdown",
   "id": "98521462",
   "metadata": {
    "slideshow": {
     "slide_type": "skip"
    }
   },
   "source": [
    "# Background"
   ]
  },
  {
   "cell_type": "markdown",
   "id": "d2c6b92d",
   "metadata": {
    "slideshow": {
     "slide_type": "slide"
    }
   },
   "source": [
    "# AI\n",
    "\n",
    "\n",
    "\n",
    "<img src=\"http://simplecore.intel.com/newsroom/wp-content/uploads/sites/11/2018/05/artificial-intelligence-terms.jpg\">\n",
    "\n",
    "Ref:https://simplecore.intel.com/newsroom/wp-content/uploads/sites/11/2018/05/artificial-intelligence-terms.jpg"
   ]
  },
  {
   "cell_type": "markdown",
   "id": "5b550c56",
   "metadata": {
    "slideshow": {
     "slide_type": "subslide"
    }
   },
   "source": [
    "# Usage / Goal\n",
    "\n",
    "- Collecte as much data as possible so that no opportunity is missed\n",
    "- Train models that can provide more personalized and optimized solutions to customers and operations [1]"
   ]
  },
  {
   "cell_type": "markdown",
   "id": "7b11b135",
   "metadata": {
    "slideshow": {
     "slide_type": "slide"
    }
   },
   "source": [
    "# Challenge\n",
    "\n",
    "## AI is Energyvore!\n",
    "\n",
    "- AI-related tasks are particularly energy-greedy [2], [3].\n",
    "\n",
    "- the amount of computing used for AI training has been doubling every 3.4 months [4].\n",
    "\n",
    "- exponential growth of computational power required to train models over the past six years [6]\n",
    "\n",
    "- particular machine learning models have been estimated to consume the energy equivalent of a trans-American flight [5]."
   ]
  },
  {
   "cell_type": "markdown",
   "id": "539edf28",
   "metadata": {
    "slideshow": {
     "slide_type": "slide"
    }
   },
   "source": [
    "# Related Work"
   ]
  },
  {
   "cell_type": "markdown",
   "id": "b4dc2c0f",
   "metadata": {
    "slideshow": {
     "slide_type": "subslide"
    }
   },
   "source": [
    "## Green Software\n",
    "\n",
    "- aim at providing developers with informed advice on how to design, develop, and deploy their systems [11]–[16].\n",
    "- providing tools to help developers automatically improve the energy efficiency of their code [17], [18].\n",
    "- only a handful of studies address the energy efficiency of AI-based systems [19]"
   ]
  },
  {
   "cell_type": "markdown",
   "id": "3f111d31",
   "metadata": {
    "slideshow": {
     "slide_type": "subslide"
    }
   },
   "source": [
    "## Green AI\n",
    "\n",
    "- focus on utilizing AI to address sustainability concerns [20], [21]\n",
    "- only a few investigate how the sustainability of AI itself can be improved\n",
    "\n",
    "- Strubell at al.: research agenda in AI that considers their energy consumption [2]\n",
    "    -  results showcase that training a state-of-the-art NLP model can generate as much carbon as five cars during their entire lifespan (including fuel).\n",
    "    \n",
    "- Schwartz et al.: Red AI / Green AI\n",
    "    - Red AI: improve acuracy metrics\n",
    "    - Green AI: computational cost as performance metric. Favoring algorithms with comparable accuracy while consuming less energy.\n"
   ]
  },
  {
   "cell_type": "markdown",
   "id": "c7d1c47d",
   "metadata": {
    "slideshow": {
     "slide_type": "subslide"
    }
   },
   "source": [
    "## Data-centric AI\n",
    "\n",
    "- collect high-quality data is more important than collecting big data\n",
    "- focus on leveraging systematic, reliable, and efficient practices to collect high-quality data\n",
    "- \"programming with focus on data instead of code\" [¹]\n",
    "\n",
    "[¹]:https://landing.ai/data-centric-ai/"
   ]
  },
  {
   "cell_type": "markdown",
   "id": "528a9630",
   "metadata": {
    "slideshow": {
     "slide_type": "slide"
    }
   },
   "source": [
    "# Approach"
   ]
  },
  {
   "cell_type": "markdown",
   "id": "cc49705b",
   "metadata": {
    "slideshow": {
     "slide_type": "subslide"
    }
   },
   "source": [
    "# Machine Learning Process\n",
    "\n",
    "<img src=\"https://volcanohong.github.io/content/images/2016/ml_process.png\">\n",
    "\n",
    "Ref: https://volcanohong.github.io/2016/09/01/machine-learning-notes/\n"
   ]
  },
  {
   "cell_type": "markdown",
   "id": "a293f45f",
   "metadata": {
    "slideshow": {
     "slide_type": "subslide"
    }
   },
   "source": [
    "<img src=\"img/AIEnergy.svg\" width=\"100%\">"
   ]
  },
  {
   "cell_type": "markdown",
   "id": "1d51850a",
   "metadata": {
    "slideshow": {
     "slide_type": "subslide"
    }
   },
   "source": [
    "<img src=\"img/AIFocus.svg\" width=\"100%\">"
   ]
  },
  {
   "cell_type": "markdown",
   "id": "c294ad4c",
   "metadata": {
    "slideshow": {
     "slide_type": "subslide"
    }
   },
   "source": [
    "<img src=\"img/AIGoal.svg\" width=\"100%\">"
   ]
  },
  {
   "cell_type": "markdown",
   "id": "9980f233",
   "metadata": {
    "slideshow": {
     "slide_type": "subslide"
    }
   },
   "source": [
    "<img src=\"img/AIApproach.svg\" width=\"100%\">"
   ]
  },
  {
   "cell_type": "markdown",
   "id": "ec96aece",
   "metadata": {
    "slideshow": {
     "slide_type": "slide"
    }
   },
   "source": [
    "## Research Questions\n",
    "\n",
    "### RQ1: Do AI algorithms differ in terms of energy consumption?\n",
    "\n",
    "### RQ2: Does modifying the dataset impact the energy efficiency of AI algorithms?\n",
    "#### RQ2.1: Does the size of the dataset impact the energy consumption of AI algorithms?\n",
    "#### RQ2.2: Does the number of features impact the energy consumption of AI algorithms?\n",
    "\n",
    "### RQ3: Can we improve the energy efficiency of AI algorithms through a data-centric approach without compromising their accuracy?"
   ]
  },
  {
   "cell_type": "markdown",
   "id": "785bb7e1",
   "metadata": {
    "slideshow": {
     "slide_type": "slide"
    }
   },
   "source": [
    "# Study Case / Experimental Design\n",
    "\n",
    "## Subject\n",
    "\n",
    "- SMS Spam Collection dataset\n",
    "- dataset of labeled SMS messages collected for mobile phone spam research\n",
    "- 5,574 text message instances, labeled either as legit (“ham” label, 4,827 instances) or spam (“spam” label, 747 instances).\n"
   ]
  },
  {
   "cell_type": "markdown",
   "id": "25da0e8a",
   "metadata": {
    "slideshow": {
     "slide_type": "subslide"
    }
   },
   "source": [
    "## Design\n",
    "\n",
    "\n",
    "- Independent Variables\n",
    "    - AI Algorithm : Support-Vector Machine, Decision Tree, Multinomial Naive Bayes, K-Nearest Neighbour, Random Forest, Adaptive Boost, Bagging Classifier.\n",
    "    - Number of Data Points: 10%, 20%, 30%, ..., 100% (For 100%, traning dataset = 70% of 5574 messages)\n",
    "    - Number of features: 10%, 20%, 30%, ..., 100% (For 100%, 8169 features)\n",
    "    \n",
    "- Dependent Variables\n",
    "    - Energy consumption (in Joules)\n",
    "    - F1-score : overall accuracy (= 2*(P*R/P+R))\n"
   ]
  },
  {
   "cell_type": "markdown",
   "id": "5f9b5538",
   "metadata": {
    "slideshow": {
     "slide_type": "slide"
    }
   },
   "source": [
    "# Results\n",
    "\n",
    "https://github.com/GreenAIproject/ICT4S22"
   ]
  },
  {
   "cell_type": "markdown",
   "id": "eecefbcc",
   "metadata": {
    "slideshow": {
     "slide_type": "fragment"
    }
   },
   "source": [
    "## RQ1:\n",
    "\n",
    "<div style=\"display: flex;\">\n",
    "<img src=\"img/rq1.png\">\n",
    "<img src=\"img/BoxRQ1.png\" width=\"50%\">\n",
    "</div>"
   ]
  },
  {
   "cell_type": "markdown",
   "id": "eae9f6e4",
   "metadata": {
    "slideshow": {
     "slide_type": "subslide"
    }
   },
   "source": [
    "## RQ2:\n",
    "\n",
    "<img src=\"img/rq2.png\">\n",
    "\n",
    "<img src=\"img/BoxRQ2.png\">\n"
   ]
  },
  {
   "cell_type": "markdown",
   "id": "10c15578",
   "metadata": {
    "slideshow": {
     "slide_type": "subslide"
    }
   },
   "source": [
    "## RQ3:\n",
    "\n",
    "\n",
    "<img src=\"img/rq3.png\">\n",
    "<img src=\"img/BoxRQ3.png\" width=\"50%\">\n"
   ]
  },
  {
   "cell_type": "markdown",
   "id": "858e0da2",
   "metadata": {
    "slideshow": {
     "slide_type": "slide"
    }
   },
   "source": [
    "# Conclusion\n",
    "\n",
    "- investigate if modifying exclusively datasets, rather than the model training strategies, can optimize AI energy efficiency\n",
    "- empirical experiment by considering 6 AI algorithms, two dataset modification strategies, and a dataset of over 5K data points.\n",
    "\n",
    "<br/>\n",
    "\n",
    "- data-centric strategies can be used to optimize AI energy efficiency\n",
    "- such techniques can lead to a drastic energy consumption reduction\n",
    "- we observed that in most cases the accuracy loss is negligible\n",
    "\n"
   ]
  },
  {
   "cell_type": "markdown",
   "id": "26660bff",
   "metadata": {
    "slideshow": {
     "slide_type": "subslide"
    }
   },
   "source": [
    "# Perspectives\n",
    "\n",
    "- open a new area of investigation, namely data-centric Green AI, to address the sustainability of AI-based software-intensive systems\n",
    "- potential in studying data-centric techniques to democratize Green AI: Data-centric AI will help more practitioners in developing green AI models\n",
    "- insights to define the most relevant and energy-efficient modifications of datasets used during the development of the AI models while ensuring minimal accuracy loss"
   ]
  },
  {
   "cell_type": "markdown",
   "id": "aad4ff2c",
   "metadata": {
    "slideshow": {
     "slide_type": "slide"
    }
   },
   "source": [
    "# ICT4S Reading Group\n",
    "<br/>\n",
    "<div style=\"display: flex;\">\n",
    "    <span style=\"padding-left: 10px;float:center;\">\n",
    "Infos: <br/>\n",
    "- Monthly meeting <br/>\n",
    "- Discussion about a book/article/what was planned to read + broadening<br/>\n",
    "- Informal discussion <br/>\n",
    "- Virtual meeting (Zoom)<br/>\n",
    "- People (researchers for now) from USA, Sweden, UK, France, Canada, etc\n",
    "\n",
    "<br/>\n",
    "<br/>\n",
    "Current reading (meeting on the 04/15/22): Deep Adaptation: Navigating the Realities of Climate Chaos [Edited by Jem Bendell, Rupert Read 2021]\n",
    "        \n",
    "Next reading: Smart Green World? Making Digitalization Work for Sustainability (2020) by Steffen Lange & Tilman Santarius\n",
    "    </span>\n",
    "<!--![DeepAdaptationBookCover](https://www.naturalhappiness.net/wp-content/uploads/2021/07/Deep-Adaptation-book-cover.jpg)-->\n",
    "<img style=\"float: right;\" src=\"https://www.naturalhappiness.net/wp-content/uploads/2021/07/Deep-Adaptation-book-cover.jpg\" width=\"25%\">\n",
    "</div>"
   ]
  },
  {
   "cell_type": "markdown",
   "id": "4fa1b071",
   "metadata": {
    "slideshow": {
     "slide_type": "slide"
    }
   },
   "source": [
    "# <p style=\"text-align: center;\" valign=\"center\"> Thank You </p>"
   ]
  },
  {
   "cell_type": "markdown",
   "id": "e0529ef8",
   "metadata": {
    "slideshow": {
     "slide_type": "slide"
    }
   },
   "source": [
    "### References\n",
    "\n",
    "#### Papers:\n",
    "[1] M. Haakman, L. Cruz, H. Huijgens, and A. van Deursen, “AI lifecycle\n",
    "models need to be revised,” Empirical Software Engineering, vol. 26,\n",
    "no. 5, pp. 1–29, 2021. \n",
    "<br/>\n",
    "[2] E. Strubell, A. Ganesh, and A. McCallum, “Energy and policy\n",
    "considerations for deep learning in nlp,” 6 2019. [Online]. Available:\n",
    "http://arxiv.org/abs/1906.02243\n",
    "<br/>\n",
    "[3] A. Lacoste, A. Luccioni, V. Schmidt, and T. Dandres, “Quantifying the\n",
    "carbon emissions of machine learning,” 10 2019. [Online]. Available:\n",
    "http://arxiv.org/abs/1910.09700\n",
    "<br/>\n",
    "[4] D. Amodei and D. Hernandez, “AI and compute,” Open AI, 2018.\n",
    "[Online]. Available: https://openai.com/blog/ai-and-compute/\n",
    "<br/>\n",
    "[5] E. M. Bender, T. Gebru, A. McMillan-Major, and S. Shmitchell, “On\n",
    "the dangers of stochastic parrots: Can language models be too big?”\n",
    "Association for Computing Machinery, Inc, 3 2021, pp. 610–623.\n",
    "<br/>\n",
    "[6] R. Schwartz, J. Dodge, N. A. Smith, and O. Etzioni, “Green AI,”\n",
    "Communications of the ACM, vol. 63, pp. 54–63, 11 2020.\n",
    "<br/>\n",
    "[11] H. Anwar, B. Demirer, D. Pfahl, and S. Srirama, “Should energy\n",
    "consumption influence the choice of android third-party http libraries?”\n",
    "in Proceedings of the IEEE/ACM 7th International Conference on\n",
    "Mobile Software Engineering and Systems, 2020, pp. 87–97.\n",
    "<br/>\n",
    "[12] L. Cruz and R. Abreu, “Catalog of energy patterns for mobile applications,”\n",
    "Empirical Software Engineering, vol. 24, no. 4, pp. 2209–2235,\n",
    "2019.\n",
    "<br/>\n",
    "[13] L. Cruz, R. Abreu, J. Grundy, L. Li, and X. Xia, “Do energy-oriented\n",
    "changes hinder maintainability?” in 2019 IEEE International Conference\n",
    "on Software Maintenance and Evolution (ICSME), 2019, pp. 29–40.\n",
    "<br/>\n",
    "[14] C. C. Venters, R. Capilla, S. Betz, B. Penzenstadler, T. Crick, S. Crouch,\n",
    "E. Y. Nakagawa, C. Becker, and C. Carrillo, “Software sustainability:\n",
    "Research and practice from a software architecture viewpoint,” Journal\n",
    "of Systems and Software, vol. 138, pp. 174–188, 2018.\n",
    "<br/>\n",
    "\n",
    "\n",
    "\n",
    "\n",
    "\n"
   ]
  },
  {
   "cell_type": "markdown",
   "id": "31058e53",
   "metadata": {
    "slideshow": {
     "slide_type": "subslide"
    }
   },
   "source": [
    "[15] R. Verdecchia, R. A. Saez, G. Procaccianti, and P. Lago, “Empirical\n",
    "evaluation of the energy impact of refactoring code smells.” in ICT4S,\n",
    "2018, pp. 365–383.\n",
    "<br/>\n",
    "[16] R. Verdecchia, G. Procaccianti, I. Malavolta, P. Lago, and J. Koedijk,\n",
    "“Estimating energy impact of software releases and deployment strategies:\n",
    "The kpmg case study,” in 2017 ACM/IEEE International Symposium\n",
    "on Empirical Software Engineering and Measurement (ESEM).\n",
    "IEEE, 2017, pp. 257–266.\n",
    "<br/>\n",
    "[17] A. Ribeiro, J. F. Ferreira, and A. Mendes, “Ecoandroid: An android\n",
    "studio plugin for developing energy-efficient java mobile applications,”\n",
    "2021.\n",
    "<br/>\n",
    "[18] L. Cruz and R. Abreu, “Emaas: Energy measurements as a service for\n",
    "mobile applications,” in 2019 IEEE/ACM 41st International Conference\n",
    "on Software Engineering: New Ideas and Emerging Results (ICSENIER),\n",
    "2019, pp. 101–104.\n",
    "<br/>\n",
    "[19] A. van Wynsberghe, “Sustainable AI: AI for sustainability and the\n",
    "sustainability of AI,” AI and Ethics, pp. 1–6, 2021.\n",
    "<br/>\n",
    "[20] V. Kloh, B. Schulze, and M. Ferro, “Use of machine learning for\n",
    "improvements in performance and energy consumption in hpc systems,”\n",
    "09 2020.\n",
    "<br/>\n",
    "[21] S. Zhu, K. Ota, and M. Dong, “Green AI for IIoT: Energy efficient\n",
    "intelligent edge computing for industrial internet of things,” IEEE\n",
    "Transactions on Green Communications and Networking, 08 2021.\n",
    "\n",
    "\n"
   ]
  },
  {
   "cell_type": "markdown",
   "id": "1c170d9b",
   "metadata": {
    "slideshow": {
     "slide_type": "subslide"
    }
   },
   "source": [
    "#### Icons:\n",
    "\n",
    "- <a target=\"_blank\" href=\"https://icons8.com/icon/KFWvpv79r0P0/world\">World</a> icon by <a target=\"_blank\" href=\"https://icons8.com\">Icons8</a>\n",
    "\n",
    "- <a target=\"_blank\" href=\"https://icons8.com/icon/d19WvHyBFTie/pacman\">Pacman</a> icon by <a target=\"_blank\" href=\"https://icons8.com\">Icons8</a>\n",
    "\n",
    "- <a target=\"_blank\" href=\"https://icons8.com/icon/OWSR34UqFWWP/ai\">AI</a> icon by <a target=\"_blank\" href=\"https://icons8.com\">Icons8</a>\n",
    "\n",
    "- <a target=\"_blank\" href=\"https://icons8.com/icon/I95Rtqak59Fa/software\">Software</a> icon by <a target=\"_blank\" href=\"https://icons8.com\">Icons8</a>\n",
    "\n",
    "- <a target=\"_blank\" href=\"https://icons8.com/icon/9ZrbTFm6V0iX/lightning-bolt\">Lightning Bolt</a> icon by <a target=\"_blank\" href=\"https://icons8.com\">Icons8</a>\n",
    "- <a target=\"_blank\" href=\"https://icons8.com/icon/12332/low-battery\">Low Battery</a> icon by <a target=\"_blank\" href=\"https://icons8.com\">Icons8</a>"
   ]
  }
 ],
 "metadata": {
  "celltoolbar": "Slideshow",
  "kernelspec": {
   "display_name": "Python 3",
   "language": "python",
   "name": "python3"
  },
  "language_info": {
   "codemirror_mode": {
    "name": "ipython",
    "version": 3
   },
   "file_extension": ".py",
   "mimetype": "text/x-python",
   "name": "python",
   "nbconvert_exporter": "python",
   "pygments_lexer": "ipython3",
   "version": "3.10.2"
  }
 },
 "nbformat": 4,
 "nbformat_minor": 5
}
