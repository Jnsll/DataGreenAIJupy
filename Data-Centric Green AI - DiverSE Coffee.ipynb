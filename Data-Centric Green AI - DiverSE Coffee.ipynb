{
 "cells": [
  {
   "cell_type": "markdown",
   "id": "94b51a55",
   "metadata": {
    "slideshow": {
     "slide_type": "slide"
    }
   },
   "source": [
    "# <p style=\"text-align: center;\">Data-Centric Green AI: An Exploratory Empirical Study </p>\n",
    "\n",
    "## <p style=\"text-align: center;\">DiverSE Coffee --  04/14/22 </p>\n",
    "<!--## <p style=\"text-align: center;\">04/14/22</p> -->\n",
    "\n",
    "## <p style=\"text-align: center;\" valign=\"center\"> June Sallou  </p> \n",
    "<!--- <img style=\"float: right;\" valign=\"center\" width=\"20\" src=\"TwitLogo.png\">  <p style=\"text-align: right;\" valign=\"center\">  @jnsll_</p> -->\n",
    "\n",
    "<br/>\n",
    "<br/>\n",
    "<br/>\n",
    "\n",
    "\n",
    "\n",
    "\n",
    "<div style=\"float: left; text-align: left; display: inline-block;\"> \n",
    "<span style=\"vertical-align:middle;padding-left: 5px;\">Slides:</span>\n",
    "<img style=\"float: left; text-align: left; vertical-align:middle;\" valign=\"center\" width = \"35\" src=\"GitHubLogo.png\"> \n",
    "<a style=\"padding-left: 5px;vertical-align:middle;\" href=\"https://github.com/Jnsll/DataGreenAIJupy\">https://github.com/Jnsll/DataGreenAIJupy\n",
    "</a>\n",
    "</div>\n",
    "\n",
    "<div style=\"float: right; display: inline-block;\">\n",
    "<img style=\"float: left;vertical-align:middle;\" width=\"35\" src=\"TwitLogo.png\">  \n",
    "<span style=\"float: right; padding-left: 5px; vertical-align:middle;\">@jnsll_ </span>\n",
    "</div>"
   ]
  },
  {
   "cell_type": "markdown",
   "id": "c3ebfeb9",
   "metadata": {
    "slideshow": {
     "slide_type": "slide"
    }
   },
   "source": [
    "## Story of the paper\n",
    "\n",
    "All started in August 2021..."
   ]
  },
  {
   "cell_type": "markdown",
   "id": "08b14169",
   "metadata": {
    "slideshow": {
     "slide_type": "subslide"
    }
   },
   "source": [
    "At the Summer School "
   ]
  },
  {
   "cell_type": "markdown",
   "id": "eea78d6c",
   "metadata": {
    "slideshow": {
     "slide_type": "slide"
    }
   },
   "source": [
    "## ICT4S Conference\n",
    "\n",
    "Context about the paper.\n",
    "\n",
    "Result of the Summer school which took place in August 2021.\n",
    "\n",
    "Info about the conference."
   ]
  },
  {
   "cell_type": "markdown",
   "id": "9c1217ee",
   "metadata": {
    "slideshow": {
     "slide_type": "slide"
    }
   },
   "source": [
    "## AI and Energy Consumption\n",
    "\n",
    "The usage of AI more and more predominent. \n",
    "\n",
    "Yet, the energy consumption of AI. A lot!! "
   ]
  },
  {
   "cell_type": "code",
   "execution_count": null,
   "id": "fd40480c",
   "metadata": {},
   "outputs": [],
   "source": []
  }
 ],
 "metadata": {
  "celltoolbar": "Slideshow",
  "kernelspec": {
   "display_name": "Python 3",
   "language": "python",
   "name": "python3"
  },
  "language_info": {
   "codemirror_mode": {
    "name": "ipython",
    "version": 3
   },
   "file_extension": ".py",
   "mimetype": "text/x-python",
   "name": "python",
   "nbconvert_exporter": "python",
   "pygments_lexer": "ipython3",
   "version": "3.10.2"
  }
 },
 "nbformat": 4,
 "nbformat_minor": 5
}
