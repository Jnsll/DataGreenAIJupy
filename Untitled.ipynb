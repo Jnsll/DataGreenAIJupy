{
 "cells": [
  {
   "cell_type": "markdown",
   "id": "94b51a55",
   "metadata": {
    "slideshow": {
     "slide_type": "slide"
    }
   },
   "source": [
    "# <p style=\"text-align: center;\">Data-Centric Green AI: An Exploratory Empirical Study </p>\n",
    "\n",
    "## <p style=\"text-align: center;\">DiverSE Coffee </p>\n",
    "## <p style=\"text-align: center;\">04/14/22</p>\n",
    "\n",
    "## <p style=\"text-align: right;\"> June Sallou  </p>"
   ]
  },
  {
   "cell_type": "markdown",
   "id": "eea78d6c",
   "metadata": {
    "slideshow": {
     "slide_type": "slide"
    }
   },
   "source": [
    "## ICT4S Conference\n",
    "\n",
    "Context about the paper.\n",
    "\n",
    "Result of the Summer school which took place in August 2021.\n",
    "\n",
    "Info about the conference."
   ]
  },
  {
   "cell_type": "markdown",
   "id": "9c1217ee",
   "metadata": {
    "slideshow": {
     "slide_type": "slide"
    }
   },
   "source": [
    "## AI and Energy Consumption\n",
    "\n",
    "The usage of AI more and more predominent. \n",
    "\n",
    "Yet, the energy consumption of AI. A lot!! "
   ]
  },
  {
   "cell_type": "code",
   "execution_count": null,
   "id": "fd40480c",
   "metadata": {},
   "outputs": [],
   "source": []
  }
 ],
 "metadata": {
  "celltoolbar": "Slideshow",
  "kernelspec": {
   "display_name": "Python 3",
   "language": "python",
   "name": "python3"
  },
  "language_info": {
   "codemirror_mode": {
    "name": "ipython",
    "version": 3
   },
   "file_extension": ".py",
   "mimetype": "text/x-python",
   "name": "python",
   "nbconvert_exporter": "python",
   "pygments_lexer": "ipython3",
   "version": "3.10.2"
  }
 },
 "nbformat": 4,
 "nbformat_minor": 5
}
